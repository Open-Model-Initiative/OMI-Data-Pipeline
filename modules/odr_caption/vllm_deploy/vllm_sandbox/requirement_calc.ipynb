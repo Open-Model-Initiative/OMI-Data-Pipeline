{
 "cells": [
  {
   "cell_type": "code",
   "execution_count": 1,
   "metadata": {},
   "outputs": [
    {
     "name": "stdout",
     "output_type": "stream",
     "text": [
      "Required GPU Memory: 8.40 GB\n"
     ]
    }
   ],
   "source": [
    "def calculate_gpu_memory(parameters: int, quant_bits: int) -> float:\n",
    "    \"\"\"\n",
    "    Calculate the required GPU memory for serving a model.\n",
    "\n",
    "    Args:\n",
    "        parameters (int): The number of parameters in the model (P).\n",
    "        quant_bits (int): The number of bits used for quantization (Q).\n",
    "\n",
    "    Returns:\n",
    "        float: Required GPU memory in gigabytes (GB).\n",
    "    \"\"\"\n",
    "    bytes_per_param = 4  # 4 bytes for each parameter (32-bit precision)\n",
    "    overhead_factor = 1.2  # 20% overhead\n",
    "\n",
    "    # Calculate the required memory in bytes\n",
    "    memory_bytes = (parameters * bytes_per_param) / (32 / quant_bits)\n",
    "    \n",
    "    # Add the overhead\n",
    "    memory_bytes *= overhead_factor\n",
    "\n",
    "    # Convert to gigabytes (1 GB = 10^9 bytes)\n",
    "    memory_gb = memory_bytes / 1e9\n",
    "\n",
    "    return memory_gb\n",
    "\n",
    "# Example usage\n",
    "parameters = 7 * 10**9  # 7 billion parameters\n",
    "quant_bits = 8  # 8-bit quantization\n",
    "required_memory = calculate_gpu_memory(parameters, quant_bits)\n",
    "print(f\"Required GPU Memory: {required_memory:.2f} GB\")"
   ]
  }
 ],
 "metadata": {
  "kernelspec": {
   "display_name": "venv",
   "language": "python",
   "name": "python3"
  },
  "language_info": {
   "codemirror_mode": {
    "name": "ipython",
    "version": 3
   },
   "file_extension": ".py",
   "mimetype": "text/x-python",
   "name": "python",
   "nbconvert_exporter": "python",
   "pygments_lexer": "ipython3",
   "version": "3.11.10"
  }
 },
 "nbformat": 4,
 "nbformat_minor": 2
}
